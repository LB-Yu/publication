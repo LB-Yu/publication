{
 "cells": [
  {
   "cell_type": "code",
   "execution_count": 1,
   "metadata": {},
   "outputs": [],
   "source": [
    "from util import load_mnist_data\n",
    "from lr import LogisticRegression\n",
    "\n",
    "import matplotlib.pyplot as plt\n",
    "%matplotlib inline"
   ]
  },
  {
   "cell_type": "code",
   "execution_count": 2,
   "metadata": {},
   "outputs": [
    {
     "name": "stdout",
     "output_type": "stream",
     "text": [
      "Loading data...\n"
     ]
    }
   ],
   "source": [
    "# load and selecte 0, 1\n",
    "train_set, valid_set, test_set = load_mnist_data(\"mnist.pkl.gz\")\n",
    "\n",
    "# train set\n",
    "train_zero_mask = (train_set[1] == 0)\n",
    "train_one_mask = (train_set[1] == 1)\n",
    "train_mask = train_zero_mask + train_one_mask\n",
    "train_X = train_set[0][train_mask]\n",
    "train_Y = train_set[1][train_mask].reshape(-1, 1)\n",
    "\n",
    "# test set\n",
    "test_zero_mask = (test_set[1] == 0)\n",
    "test_one_mask = (test_set[1] == 1)\n",
    "test_mask = test_zero_mask + test_one_mask\n",
    "test_X = test_set[0][test_mask]\n",
    "test_Y = test_set[1][test_mask].reshape(-1, 1)"
   ]
  },
  {
   "cell_type": "code",
   "execution_count": 3,
   "metadata": {},
   "outputs": [
    {
     "name": "stdout",
     "output_type": "stream",
     "text": [
      "[0 1 0 0 0 1 0 1 1 0 0]\n"
     ]
    },
    {
     "data": {
      "image/png": "[encoded data removed]",
      "text/plain": [
       "<Figure size 432x288 with 11 Axes>"
      ]
     },
     "metadata": {},
     "output_type": "display_data"
    }
   ],
   "source": [
    "# let's show some pictures\n",
    "show_imgs = train_X[::1000]\n",
    "show_labels = train_Y[::1000]\n",
    "m = len(show_imgs)\n",
    "for i in range(len(show_imgs)):\n",
    "    img = show_imgs[i].reshape([28, 28])\n",
    "    plt.subplot(1, m, i+1)\n",
    "    plt.imshow(img, cmap='gray')\n",
    "print(show_labels.reshape(-1))"
   ]
  },
  {
   "cell_type": "code",
   "execution_count": 8,
   "metadata": {},
   "outputs": [
    {
     "name": "stdout",
     "output_type": "stream",
     "text": [
      "Step: 10, Cost: 0.4691291938489319\n",
      "Step: 20, Cost: 0.3530676101213439\n",
      "Step: 30, Cost: 0.2822567208789488\n",
      "Step: 40, Cost: 0.23518031959406852\n",
      "Step: 50, Cost: 0.20190162482436363\n",
      "Step: 60, Cost: 0.17723908811579758\n",
      "Step: 70, Cost: 0.15827093740865159\n",
      "Step: 80, Cost: 0.14324355450657483\n",
      "Step: 90, Cost: 0.1310484216558799\n",
      "Step: 100, Cost: 0.12095367156260461\n",
      "Step: 110, Cost: 0.11245804711473234\n",
      "Step: 120, Cost: 0.10520735056549298\n",
      "Step: 130, Cost: 0.09894450811003497\n",
      "Step: 140, Cost: 0.09347856787455801\n",
      "Step: 150, Cost: 0.08866480159413558\n",
      "Step: 160, Cost: 0.08439155427919616\n",
      "Step: 170, Cost: 0.0805713261084056\n",
      "Step: 180, Cost: 0.0771345841059721\n",
      "Step: 190, Cost: 0.07402537912203398\n",
      "Step: 200, Cost: 0.0711981838157818\n",
      "Step: 210, Cost: 0.06861557332355087\n",
      "Step: 220, Cost: 0.06624649825590342\n",
      "Step: 230, Cost: 0.06406498103113371\n",
      "Step: 240, Cost: 0.06204911939410485\n",
      "Step: 250, Cost: 0.060180315957813015\n",
      "Step: 260, Cost: 0.05844267618710626\n",
      "Step: 270, Cost: 0.05682253339966003\n",
      "Step: 280, Cost: 0.0553080705952127\n",
      "Step: 290, Cost: 0.05388901684799192\n"
     ]
    }
   ],
   "source": [
    "lr_clf = LogisticRegression(learning_rate=0.01, max_iter=300)\n",
    "lr_clf.fit(train_X, train_Y)"
   ]
  },
  {
   "cell_type": "code",
   "execution_count": 9,
   "metadata": {},
   "outputs": [
    {
     "name": "stdout",
     "output_type": "stream",
     "text": [
      "test accurcy: 0.9985815602836879\n"
     ]
    }
   ],
   "source": [
    "test_acc = lr_clf.score(test_X, test_Y)\n",
    "print(\"test accurcy: \" + str(test_acc))"
   ]
  }
 ],
 "metadata": {
  "kernelspec": {
   "display_name": "Python 3",
   "language": "python",
   "name": "python3"
  },
  "language_info": {
   "codemirror_mode": {
    "name": "ipython",
    "version": 3
   },
   "file_extension": ".py",
   "mimetype": "text/x-python",
   "name": "python",
   "nbconvert_exporter": "python",
   "pygments_lexer": "ipython3",
   "version": "3.6.5"
  }
 },
 "nbformat": 4,
 "nbformat_minor": 2
}
