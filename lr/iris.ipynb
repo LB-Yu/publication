{
 "cells": [
  {
   "cell_type": "code",
   "execution_count": 1,
   "metadata": {},
   "outputs": [],
   "source": [
    "import lr\n",
    "\n",
    "import numpy as np\n",
    "import pandas as pd\n",
    "\n",
    "from sklearn.datasets import load_iris\n",
    "from sklearn.model_selection import train_test_split\n",
    "\n",
    "import matplotlib.pyplot as plt\n",
    "%matplotlib inline\n",
    "import pprint"
   ]
  },
  {
   "cell_type": "code",
   "execution_count": 2,
   "metadata": {},
   "outputs": [],
   "source": [
    "# load and process the iris data\n",
    "# keep only two features (sepal length, sepal width) for easy visualization\n",
    "def create_iris_data():\n",
    "    iris = load_iris()\n",
    "    df = pd.DataFrame(iris.data, columns=iris.feature_names)\n",
    "    df['label'] = iris.target\n",
    "    df.columns = ['sepal length', 'sepal width', 'petal length', 'petal width', 'label']\n",
    "    data = np.array(df.iloc[:100, [0, 1, -1]])\n",
    "    return data[:, :-1], data[:, -1]"
   ]
  },
  {
   "cell_type": "code",
   "execution_count": 3,
   "metadata": {},
   "outputs": [],
   "source": [
    "X_iris, Y_iris = create_iris_data()\n",
    "Y_iris = np.array([1 if i == 1 else 0 for i in Y_iris])\n",
    "X_train, X_test, y_train, y_test = train_test_split(X_iris, Y_iris, test_size=0.3) # shuffle and split the data set"
   ]
  },
  {
   "cell_type": "code",
   "execution_count": 13,
   "metadata": {},
   "outputs": [
    {
     "name": "stdout",
     "output_type": "stream",
     "text": [
      "Step: 10, Cost: 0.6335033048691757\n",
      "Step: 20, Cost: 0.5883082972450544\n",
      "Step: 30, Cost: 0.5487842060480387\n",
      "Step: 40, Cost: 0.5141174055906491\n",
      "Step: 50, Cost: 0.4835984368529099\n",
      "Step: 60, Cost: 0.45661907159549125\n",
      "Step: 70, Cost: 0.4326635099505046\n",
      "Step: 80, Cost: 0.4112971210642733\n",
      "Step: 90, Cost: 0.3921548074423296\n"
     ]
    }
   ],
   "source": [
    "# create the model\n",
    "model = lr.LogisticRegression(max_iter=100, learning_rate=0.1)\n",
    "model.fit(X_train, y_train.reshape(-1, 1))"
   ]
  },
  {
   "cell_type": "code",
   "execution_count": 14,
   "metadata": {},
   "outputs": [
    {
     "data": {
      "text/plain": [
       "<matplotlib.legend.Legend at 0x2c44b732b38>"
      ]
     },
     "execution_count": 14,
     "metadata": {},
     "output_type": "execute_result"
    },
    {
     "data": {
      "image/png": "[encoded data removed]",
      "text/plain": [
       "<Figure size 432x288 with 1 Axes>"
      ]
     },
     "metadata": {},
     "output_type": "display_data"
    }
   ],
   "source": [
    "x_points = np.linspace(4, 7,10)\n",
    "y_ = -(model.w_[0] * x_points + model.b_) / model.w_[1]\n",
    "plt.plot(x_points, y_)\n",
    "\n",
    "plt.scatter(X_iris[:50, 0], X_iris[:50, 1], label='+1')\n",
    "plt.scatter(X_iris[50:, 0], X_iris[50:, 1], label='-1')\n",
    "plt.xlabel('sepal length')\n",
    "plt.ylabel('sepal width')\n",
    "plt.legend()"
   ]
  },
  {
   "cell_type": "code",
   "execution_count": 17,
   "metadata": {},
   "outputs": [
    {
     "name": "stdout",
     "output_type": "stream",
     "text": [
      "test accurcy: 1.0\n"
     ]
    }
   ],
   "source": [
    "test_acc = model.score(X_test, y_test)\n",
    "print(\"test accurcy: \" + str(test_acc))"
   ]
  }
 ],
 "metadata": {
  "kernelspec": {
   "display_name": "Python 3",
   "language": "python",
   "name": "python3"
  },
  "language_info": {
   "codemirror_mode": {
    "name": "ipython",
    "version": 3
   },
   "file_extension": ".py",
   "mimetype": "text/x-python",
   "name": "python",
   "nbconvert_exporter": "python",
   "pygments_lexer": "ipython3",
   "version": "3.6.5"
  }
 },
 "nbformat": 4,
 "nbformat_minor": 2
}
